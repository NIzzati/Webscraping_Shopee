{
 "cells": [
  {
   "cell_type": "code",
   "execution_count": 12,
   "metadata": {},
   "outputs": [],
   "source": [
    "import selenium\n",
    "from selenium import webdriver\n",
    "import time\n",
    "from bs4 import BeautifulSoup\n",
    "import pandas as pd\n",
    "\n",
    "def get_url(product_name):\n",
    "    product_name = product_name.replace(' ','%20')\n",
    "    template = \"https://shopee.com.my/search?keyword={}\"\n",
    "    url = template.format(product_name)\n",
    "    return url\n",
    "\n",
    "def get_all_products(card):\n",
    "    pName = card.find('div', '_10Wbs- _5SSWfi UjjMrh').text.strip()\n",
    "    pName = pName.encode('ascii', 'ignore')\n",
    "    product_name = str(pName, 'utf-8').strip()\n",
    "    product_price = card.find('div','zp9xm9 xSxKlK _1heB4J').text.strip()\n",
    "    anchor_tag = card.a.get('href')\n",
    "    product_buy_link = 'https://shopee.com.my/'+ anchor_tag\n",
    "    product_buy_link = product_buy_link.encode('ascii', 'ignore')\n",
    "    product_buy_link = str(product_buy_link, 'utf-8').strip()\n",
    "    product_info = (product_name, product_price, product_buy_link)\n",
    "    return product_info\n",
    "\n",
    "def main(product):\n",
    "    \n",
    "    records = []\n",
    "    url = get_url(product)\n",
    "    \n",
    "    driver = webdriver.Chrome(executable_path='D:\\\\PANDIT\\\\chromedriver_win32\\\\chromedriver.exe')\n",
    "    driver.get(url)\n",
    "    driver.maximize_window()\n",
    "    time.sleep(3)\n",
    "    btn = driver.find_element_by_xpath('//*[@id=\"modal\"]/div[1]/div[1]/div/div[3]/div[1]/button')\n",
    "    btn.click()\n",
    "    time.sleep(10)\n",
    "    \n",
    "    soup=BeautifulSoup(driver.page_source, 'html.parser')\n",
    "    product_cards = soup.find_all('div', 'col-xs-2-4')\n",
    "    \n",
    "    for everyProduct in product_cards:\n",
    "        productDetails=get_all_products(everyProduct)\n",
    "        records.append(productDetails)\n",
    "    col = ['Product_name','Product_price','Product_buy_link']\n",
    "\n",
    "    shopee_data = pd.DataFrame(records, columns=col)\n",
    "    shopee_data.to_csv('D:\\\\Shopee_products.csv')"
   ]
  },
  {
   "cell_type": "code",
   "execution_count": 13,
   "metadata": {},
   "outputs": [],
   "source": [
    "main('mug')"
   ]
  },
  {
   "cell_type": "code",
   "execution_count": null,
   "metadata": {},
   "outputs": [],
   "source": []
  }
 ],
 "metadata": {
  "kernelspec": {
   "display_name": "Python 3",
   "language": "python",
   "name": "python3"
  },
  "language_info": {
   "codemirror_mode": {
    "name": "ipython",
    "version": 3
   },
   "file_extension": ".py",
   "mimetype": "text/x-python",
   "name": "python",
   "nbconvert_exporter": "python",
   "pygments_lexer": "ipython3",
   "version": "3.7.6"
  }
 },
 "nbformat": 4,
 "nbformat_minor": 4
}
